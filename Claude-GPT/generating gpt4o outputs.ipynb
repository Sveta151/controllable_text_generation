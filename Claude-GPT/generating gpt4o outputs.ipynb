{
 "cells": [
  {
   "cell_type": "code",
   "execution_count": 4,
   "id": "64a60274",
   "metadata": {},
   "outputs": [],
   "source": [
    "from openai import OpenAI\n",
    "import pandas as pd"
   ]
  },
  {
   "cell_type": "code",
   "execution_count": 7,
   "id": "d3633c86",
   "metadata": {},
   "outputs": [],
   "source": [
    "with open('/Users/svetachurina/work/Clapton/datasets/GYAFC_Corpus/Family_Relationships/train/formal') as f:\n",
    "    lines = [line.rstrip() for line in f]\n",
    "with open('/Users/svetachurina/work/Clapton/datasets/GYAFC_Corpus/Family_Relationships/train/informal') as f:\n",
    "    informal_lines = [line.rstrip() for line in f]"
   ]
  },
  {
   "cell_type": "code",
   "execution_count": null,
   "id": "5c5dd428",
   "metadata": {},
   "outputs": [],
   "source": []
  },
  {
   "cell_type": "code",
   "execution_count": 8,
   "id": "65797726",
   "metadata": {},
   "outputs": [
    {
     "name": "stdout",
     "output_type": "stream",
     "text": [
      "informal lines : Sure, it's ok, but I always have let the guy ask me.\n",
      "formal lines : I prefer to let the guy ask me.\n",
      "informal lines : Hmmm, I'm a guy suffering from verbal abuse from my wife.\n",
      "formal lines : I suffer through verbal abuse from my wife.\n",
      "informal lines : You will have more friends that you want... ;)\n",
      "formal lines : You will have more friends than you want.\n",
      "informal lines : It's nice, you get to see pictures of who you are talking to!\n",
      "formal lines : It's nice that you get to see pictures of who you are talking to.\n",
      "informal lines : I NEED TO KNOW WHAT 2 DO\n",
      "formal lines : I need to know what to do.\n",
      "informal lines : LOVE ME LOVE ME OH DEAR GOD LOVE ME!\n",
      "formal lines : Love me, love me. Oh dear God love me!\n",
      "informal lines : it wouldnt be a word, it would be me singing operah.\n",
      "formal lines : It would not be a word. It would be a singing opera.\n",
      "informal lines : I like my life with the exception of her yelling and cussing.\n",
      "formal lines : I like my life with the exception of her yelling and using swear words.\n",
      "informal lines : I know how that is .\n",
      "formal lines : I know how it is.\n",
      "informal lines : does he have a fave sports team?\n",
      "formal lines : Does he have a favorite sports team?\n",
      "informal lines : no why he will just do it over and over some more while you are gone.\n",
      "formal lines : While you are away, he will do it again and again.\n",
      "informal lines : well the best way is to say look this isnt working out im not into this anymore.\n",
      "formal lines : I suggest saying \"Look, this is not working out for me anymore\".\n",
      "informal lines : no sista, i don tink so.\n",
      "formal lines : No sister, I do not think so.\n",
      "informal lines : Then kiss her;) works every time bro!!!!\n",
      "formal lines : Then kiss her, brother; that works every time.\n",
      "informal lines : Women mature way faster than men and some men never mature.\n",
      "formal lines : Women mature faster than men and some men never mature.\n",
      "informal lines : and ever since then i never bought her another gift.\n",
      "formal lines : After that I never bought her another gift.\n",
      "informal lines : and if you really want you can attend her classes with her.\n",
      "formal lines : You can attend you class with her if you would like.\n",
      "informal lines : you wont until you pick to be wealthy and powerful.\n",
      "formal lines : It will happen when you choose to be wealthy and powerful.\n",
      "informal lines : dont beg for love dont beg for money and dont beg for respect.\n",
      "formal lines : Please don't beg for love, money or respect.\n",
      "informal lines : But you will DEFINALTELY know when you are in love!\n",
      "formal lines : You will definitely know when you are in love.\n"
     ]
    }
   ],
   "source": [
    "for i in range(20):\n",
    "    print(f'informal lines : {informal_lines[i]}')\n",
    "    print(f'formal lines : {lines[i]}')"
   ]
  },
  {
   "cell_type": "code",
   "execution_count": 2,
   "id": "c8bba518",
   "metadata": {},
   "outputs": [],
   "source": [
    "## Set the API key\n",
    "client = OpenAI(api_key=\"sk-proj-s5SEfwilRrO08ivdMqI6T3BlbkFJ4q0GH9OU1ohNrzP0ZnmP\")"
   ]
  },
  {
   "cell_type": "code",
   "execution_count": 9,
   "id": "2bb48fb3",
   "metadata": {},
   "outputs": [
    {
     "name": "stdout",
     "output_type": "stream",
     "text": [
      "Assistant: Certainly, it is acceptable; however, I always prefer that the gentleman initiate the conversation.\n"
     ]
    }
   ],
   "source": [
    "MODEL=\"gpt-4o\"\n",
    "\n",
    "completion = client.chat.completions.create(\n",
    "  model=MODEL,\n",
    "  messages=[\n",
    "    {\"role\": \"system\", \"content\": \"You are a helpful assistant that formalize sentense. You will be provided sentence and you need to return sentence in formal style.\"},\n",
    "    {\"role\": \"user\", \"content\": \"Sure, it's ok, but I always have let the guy ask me.\"}\n",
    "  ]\n",
    ")\n",
    "print(\"Assistant: \" + completion.choices[0].message.content)"
   ]
  },
  {
   "cell_type": "code",
   "execution_count": 10,
   "id": "bee10085",
   "metadata": {},
   "outputs": [],
   "source": [
    "#creating different prompts to check which one is working better\n",
    "prompt_one_shot = ''' You are a helpful assistant that formalizes sentences. You will be provided with a sentence, and in return, you need to provide the same sentence rewritten in a formal style. Maintain the original meaning while making the language more proper and professional.\n",
    "Example:\n",
    "Provided sentence: \"You won't until you pick to be wealthy and powerful.\"\n",
    "Output: \"Success will come when you choose to pursue wealth and power.\"\n",
    "\n",
    "'''\n",
    "\n",
    "prompt_few_shot = ''' You are a helpful assistant that formalizes sentences. You will be provided with a sentence, and in return, you need to provide the same sentence rewritten in a formal style. Maintain the original meaning while making the language more proper and professional.\n",
    "Example:\n",
    "Provided sentence: \"You won't until you pick to be wealthy and powerful.\"\n",
    "Output: \"Success will come when you choose to pursue wealth and power.\"\n",
    "\n",
    "Provided sentence: \"does he have a fave sports team?\"\n",
    "Output: \"Does he have a favorite sports team?\"\n",
    "\n",
    "Provided sentence: \"I NEED TO KNOW WHAT 2 DO\"\n",
    "Output: \"I need to know what to do..\"\n",
    "'''"
   ]
  },
  {
   "cell_type": "code",
   "execution_count": 13,
   "id": "6a721078",
   "metadata": {},
   "outputs": [],
   "source": [
    "prompt_more_specific = '''You are a helpful assistant that converts informal text into a more standard written format. When given a sentence, you should:\n",
    "\n",
    "1. Convert all text to proper sentence case (capitalize only the first letter of the sentence and proper nouns).\n",
    "2. Spell out any numbers or numerals as words.\n",
    "3. Replace abbreviations or text speak with their full word equivalents.\n",
    "4. Maintain the original punctuation or add a period at the end if missing.\n",
    "\n",
    "Do not add any additional words or change the meaning of the sentence. Simply standardize the format as described above.\n",
    "'''"
   ]
  },
  {
   "cell_type": "code",
   "execution_count": 15,
   "id": "bfc802f7",
   "metadata": {},
   "outputs": [],
   "source": [
    "prompt_specific_2 = '''You are a helpful assistant that formalizes sentences. When given an informal sentence, you should:\n",
    "\n",
    "1. Rewrite the sentence in a more formal style.\n",
    "2. Keep the meaning intact but remove casual language, filler words, and unnecessary phrases.\n",
    "3. Present a concise, direct formal version of the original sentence.'''"
   ]
  },
  {
   "cell_type": "code",
   "execution_count": 17,
   "id": "06c001c2",
   "metadata": {},
   "outputs": [],
   "source": [
    "prompt_extended = '''You are an assistant that converts informal text into formal language. When given an informal sentence or phrase, rewrite it in a more formal style following these guidelines:\n",
    "\n",
    "1. Correct spelling and grammar errors.\n",
    "2. Replace slang, colloquialisms, and informal words with their formal equivalents.\n",
    "3. Remove unnecessary filler words and phrases.\n",
    "4. Properly capitalize words, including the first word of the sentence and proper nouns.\n",
    "5. Use appropriate punctuation, removing excessive marks.\n",
    "6. Maintain the core meaning of the original text.\n",
    "7. Avoid contractions in the formal version.\n",
    "8. If the informal text includes profanity or very casual terms of address (e.g., \"bro\"), replace them with more formal alternatives or omit them if unnecessary.'''"
   ]
  },
  {
   "cell_type": "code",
   "execution_count": 19,
   "id": "ed39c1d9",
   "metadata": {},
   "outputs": [],
   "source": [
    "prompt_extended_few_shot = '''You are an assistant that converts informal text into formal language. When given an informal sentence or phrase, rewrite it in a more formal style following these guidelines:\n",
    "\n",
    "1. Correct spelling and grammar errors.\n",
    "2. Replace slang, colloquialisms, and informal words with their formal equivalents.\n",
    "3. Remove unnecessary filler words and phrases.\n",
    "4. Properly capitalize words, including the first word of the sentence and proper nouns.\n",
    "5. Use appropriate punctuation, removing excessive marks.\n",
    "6. Maintain the core meaning of the original text.\n",
    "7. Avoid contractions in the formal version.\n",
    "8. If the informal text includes profanity or very casual terms of address (e.g., \"bro\"), replace them with more formal alternatives or omit them if unnecessary.\n",
    "Example:\n",
    "Provided sentence: \"You won't until you pick to be wealthy and powerful.\"\n",
    "Output: \"Success will come when you choose to pursue wealth and power.\"\n",
    "\n",
    "Provided sentence: \"does he have a fave sports team?\"\n",
    "Output: \"Does he have a favorite sports team?\"\n",
    "\n",
    "Provided sentence: \"I NEED TO KNOW WHAT 2 DO\"\n",
    "Output: \"I need to know what to do..\"\n",
    "'''"
   ]
  },
  {
   "cell_type": "code",
   "execution_count": 20,
   "id": "5a755211",
   "metadata": {},
   "outputs": [],
   "source": [
    "prompt_more_specific_few_shot = '''You are a helpful assistant that converts informal text into a more standard written format. When given a sentence, you should:\n",
    "\n",
    "1. Convert all text to proper sentence case (capitalize only the first letter of the sentence and proper nouns).\n",
    "2. Spell out any numbers or numerals as words.\n",
    "3. Replace abbreviations or text speak with their full word equivalents.\n",
    "4. Maintain the original punctuation or add a period at the end if missing.\n",
    "\n",
    "Do not add any additional words or change the meaning of the sentence. Simply standardize the format as described above.\n",
    "Example:\n",
    "Provided sentence: \"You won't until you pick to be wealthy and powerful.\"\n",
    "Output: \"Success will come when you choose to pursue wealth and power.\"\n",
    "\n",
    "Provided sentence: \"does he have a fave sports team?\"\n",
    "Output: \"Does he have a favorite sports team?\"\n",
    "\n",
    "Provided sentence: \"I NEED TO KNOW WHAT 2 DO\"\n",
    "Output: \"I need to know what to do..\"\n",
    "'''"
   ]
  },
  {
   "cell_type": "code",
   "execution_count": 18,
   "id": "005a170e",
   "metadata": {},
   "outputs": [
    {
     "name": "stdout",
     "output_type": "stream",
     "text": [
      "Assistant: Certainly, it is acceptable, but I have always allowed the gentleman to ask me.\n"
     ]
    }
   ],
   "source": [
    "\n",
    "\n",
    "completion = client.chat.completions.create(\n",
    "  model=MODEL,\n",
    "  messages=[\n",
    "    {\"role\": \"system\", \"content\": prompt_extended},\n",
    "    {\"role\": \"user\", \"content\": \"Sure, it's ok, but I always have let the guy ask me.\"}\n",
    "  ]\n",
    ")\n",
    "print(\"Assistant: \" + completion.choices[0].message.content)"
   ]
  },
  {
   "cell_type": "code",
   "execution_count": 23,
   "id": "63fbe67a",
   "metadata": {},
   "outputs": [],
   "source": [
    "def generate_output_gpt4(provided_prompt,input_text):\n",
    "    completion = client.chat.completions.create(\n",
    "      model=MODEL,\n",
    "      messages=[\n",
    "        {\"role\": \"system\", \"content\": provided_prompt},\n",
    "        {\"role\": \"user\", \"content\": input_text}\n",
    "      ]\n",
    "    )\n",
    "    output = completion.choices[0].message.content\n",
    "    return output\n",
    "    \n",
    "    "
   ]
  },
  {
   "cell_type": "code",
   "execution_count": 24,
   "id": "f489465a",
   "metadata": {},
   "outputs": [],
   "source": [
    "prompts = [prompt_more_specific_few_shot,prompt_extended_few_shot,prompt_extended,prompt_specific_2,prompt_more_specific,\n",
    "          prompt_few_shot,prompt_one_shot]"
   ]
  },
  {
   "cell_type": "code",
   "execution_count": 26,
   "id": "bc2b31ab",
   "metadata": {},
   "outputs": [
    {
     "name": "stdout",
     "output_type": "stream",
     "text": [
      "we are already on the 0 \n",
      "we are already on the 10 \n",
      "we are already on the 20 \n",
      "we are already on the 30 \n",
      "we are already on the 40 \n",
      "we are already on the 50 \n",
      "we are already on the 60 \n",
      "we are already on the 70 \n",
      "we are already on the 80 \n",
      "we are already on the 90 \n"
     ]
    }
   ],
   "source": [
    "output_prompts = []\n",
    "\n",
    "for i in range(100):\n",
    "    if i%10 == 0:\n",
    "        print(f\"we are already on the {i} \")\n",
    "    informal =  informal_lines[i]\n",
    "    formal = lines[i]\n",
    "    for prompt in prompts:\n",
    "        output_formal = generate_output_gpt4(prompt, informal)\n",
    "        output_prompts.append({\n",
    "            'provided_informal': informal,\n",
    "            'prompt_style ': str(prompt),\n",
    "            'expected_formal': formal,\n",
    "            'generated_formal': output_formal\n",
    "        })\n",
    "    "
   ]
  },
  {
   "cell_type": "code",
   "execution_count": 27,
   "id": "9a0816b4",
   "metadata": {},
   "outputs": [],
   "source": [
    "output_prompts_df = pd.DataFrame(output_prompts)\n",
    "output_prompts_df.to_csv('output_gpt4o_first100_dif_prompts_generated.csv')"
   ]
  }
 ],
 "metadata": {
  "kernelspec": {
   "display_name": "Python 3 (ipykernel)",
   "language": "python",
   "name": "python3"
  },
  "language_info": {
   "codemirror_mode": {
    "name": "ipython",
    "version": 3
   },
   "file_extension": ".py",
   "mimetype": "text/x-python",
   "name": "python",
   "nbconvert_exporter": "python",
   "pygments_lexer": "ipython3",
   "version": "3.11.4"
  }
 },
 "nbformat": 4,
 "nbformat_minor": 5
}
