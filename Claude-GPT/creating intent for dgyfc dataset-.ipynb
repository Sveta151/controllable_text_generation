{
 "cells": [
  {
   "cell_type": "code",
   "execution_count": 16,
   "id": "24130a89",
   "metadata": {},
   "outputs": [],
   "source": [
    "prompt = \"\"\"\n",
    "In user community questions, conversational intents can be categorized as follows:\n",
    "\n",
    "1. Information\n",
    "   - Inquiry: \"Does he have a favorite sports team?\"\n",
    "   - Personal Experiences/Recommendations: \"I don't think that page gave me viruses.\"\n",
    "\n",
    "2. Socio-emotional\n",
    "   - Support: \"I suffer through verbal abuse from my wife.\"\n",
    "   - Casual Conversation: \"It's nice that you get to see pictures of who you are talking to.\"\n",
    "   - Complaints/Rants: \"Love me, love me. Oh dear God love me!\"\n",
    "   - Warning/Caution: \"No sister, I do not think so.\"\n",
    "\n",
    "3. Opinion\n",
    "   - Advice/Opinion-seeking: \"I suggest saying 'Look, this is not working out for me anymore'.\"\n",
    "   - Judging: \"While you are away, he will do it again and again.\"\n",
    "   - Preferences/Decisions: \"I prefer to let the guy ask me.\"\n",
    "\n",
    "4. Entertainment\n",
    "   - Humor: \"It would not be a word. It would be a singing opera.\"\n",
    "   - Snark/Sarcasm: \"You should go play with your dolls.\"\n",
    "   - Gossip: \"He was on the Late Night show with Conan O'Brien and seemed gay.\"\n",
    "\n",
    "Additional kinds of intents identified from research include:\n",
    "- Objective Questions\n",
    "- Subjective Questions\n",
    "- Social Questions\n",
    "- Causality\n",
    "- Procedurality\n",
    "- Locality\n",
    "- Navigationality\n",
    "\n",
    "Identify the intent that best suits the following sentence. Provide just intent name.\n",
    "\n",
    "Example:\n",
    "\n",
    "Does he have a favorite sports team?\n",
    "Intent: Information Seeking\n",
    "\n",
    "Love me, love me. Oh dear God love me!\n",
    "Intent: Emotional Expression\n",
    "\n",
    "While you are away, he will do it again and again. \n",
    "Intent:Assessing/ Judging\n",
    "\n",
    "I prefer to let the guy ask me.\n",
    "Intent: Preferences and Decisions\n",
    "\"\"\"\n"
   ]
  },
  {
   "cell_type": "code",
   "execution_count": 3,
   "id": "fec34b4c",
   "metadata": {},
   "outputs": [],
   "source": [
    "with open('/Users/svetachurina/work/Clapton/datasets/GYAFC_Corpus/Family_Relationships/train/formal') as f:\n",
    "    lines = [line.rstrip() for line in f]"
   ]
  },
  {
   "cell_type": "code",
   "execution_count": 4,
   "id": "8b1b7486",
   "metadata": {},
   "outputs": [],
   "source": [
    "with open('/Users/svetachurina/work/Clapton/datasets/GYAFC_Corpus/Family_Relationships/train/informal') as f:\n",
    "    informal_lines = [line.rstrip() for line in f]"
   ]
  },
  {
   "cell_type": "code",
   "execution_count": 5,
   "id": "9b95742f",
   "metadata": {},
   "outputs": [],
   "source": [
    "from openai import OpenAI\n",
    "import pandas as pd"
   ]
  },
  {
   "cell_type": "code",
   "execution_count": 6,
   "id": "3a4c2444",
   "metadata": {},
   "outputs": [],
   "source": [
    "client = OpenAI(api_key=\"API_KEY\")"
   ]
  },
  {
   "cell_type": "code",
   "execution_count": 17,
   "id": "f53d10e7",
   "metadata": {},
   "outputs": [
    {
     "name": "stdout",
     "output_type": "stream",
     "text": [
      "Our line:  Women mature way faster than men and some men never mature.\n",
      "Assistant: Intent: Assessing/Judging\n"
     ]
    }
   ],
   "source": [
    "MODEL=\"gpt-4o\"\n",
    "\n",
    "completion = client.chat.completions.create(\n",
    "  model=MODEL,\n",
    "  messages=[\n",
    "    {\"role\": \"system\", \"content\": prompt},\n",
    "    {\"role\": \"user\", \"content\": informal_lines[14]}\n",
    "  ]\n",
    ")\n",
    "print('Our line: ', informal_lines[14])\n",
    "print(\"Assistant: \" + completion.choices[0].message.content)"
   ]
  },
  {
   "cell_type": "code",
   "execution_count": 20,
   "id": "de8df4b6",
   "metadata": {},
   "outputs": [
    {
     "name": "stdout",
     "output_type": "stream",
     "text": [
      "Assessing/Judging\n"
     ]
    }
   ],
   "source": [
    "import re\n",
    "print(re.sub('Intent: ', '', completion.choices[0].message.content))"
   ]
  },
  {
   "cell_type": "code",
   "execution_count": 18,
   "id": "caf87ca8",
   "metadata": {},
   "outputs": [
    {
     "name": "stdout",
     "output_type": "stream",
     "text": [
      "51967\n"
     ]
    }
   ],
   "source": [
    "print(len(lines))"
   ]
  },
  {
   "cell_type": "code",
   "execution_count": 19,
   "id": "a066ceb5",
   "metadata": {},
   "outputs": [],
   "source": [
    "formal_intents = []"
   ]
  },
  {
   "cell_type": "code",
   "execution_count": 21,
   "id": "de4e36a6",
   "metadata": {},
   "outputs": [],
   "source": [
    "def generate_gpt(line):\n",
    "    completion = client.chat.completions.create(\n",
    "          model=MODEL,\n",
    "          messages=[\n",
    "            {\"role\": \"system\", \"content\": prompt},\n",
    "            {\"role\": \"user\", \"content\": line}\n",
    "          ]\n",
    "        )\n",
    "    result = completion.choices[0].message.content\n",
    "    result = re.sub('Intent: ', '', result)\n",
    "    return result\n",
    "    \n",
    "    "
   ]
  },
  {
   "cell_type": "code",
   "execution_count": 22,
   "id": "972c0be0",
   "metadata": {},
   "outputs": [
    {
     "name": "stdout",
     "output_type": "stream",
     "text": [
      "we are on 0 already\n",
      "we are on 50 already\n",
      "we are on 100 already\n",
      "we are on 150 already\n",
      "we are on 200 already\n",
      "we are on 250 already\n",
      "we are on 300 already\n",
      "we are on 350 already\n",
      "we are on 400 already\n",
      "we are on 450 already\n",
      "we are on 500 already\n",
      "we are on 550 already\n",
      "we are on 600 already\n",
      "we are on 650 already\n",
      "we are on 700 already\n",
      "we are on 750 already\n",
      "we are on 800 already\n",
      "we are on 850 already\n",
      "we are on 900 already\n",
      "we are on 950 already\n",
      "we are on 1000 already\n",
      "we are on 1050 already\n",
      "we are on 1100 already\n",
      "we are on 1150 already\n",
      "we are on 1200 already\n",
      "we are on 1250 already\n",
      "we are on 1300 already\n",
      "we are on 1350 already\n",
      "we are on 1400 already\n",
      "we are on 1450 already\n",
      "we are on 1500 already\n",
      "we are on 1550 already\n",
      "we are on 1600 already\n",
      "we are on 1650 already\n",
      "we are on 1700 already\n",
      "we are on 1750 already\n",
      "we are on 1800 already\n",
      "we are on 1850 already\n",
      "we are on 1900 already\n",
      "we are on 1950 already\n"
     ]
    }
   ],
   "source": [
    "for i in range(2000):\n",
    "    if i % 50 == 0:\n",
    "        print(f\"we are on {i} already\")\n",
    "    line = lines[i]\n",
    "    intent = generate_gpt(line)\n",
    "    formal_intents.append({\n",
    "        'line': line,\n",
    "        'intent': intent\n",
    "    })"
   ]
  },
  {
   "cell_type": "code",
   "execution_count": 23,
   "id": "bc29d8a8",
   "metadata": {},
   "outputs": [],
   "source": [
    "formal_intent_df = pd.DataFrame(formal_intents)"
   ]
  },
  {
   "cell_type": "code",
   "execution_count": 25,
   "id": "1d6aed8d",
   "metadata": {},
   "outputs": [],
   "source": [
    "formal_intent_df.to_csv('formal_intent_family_relationships_first_2000.csv', index = False)"
   ]
  }
 ],
 "metadata": {
  "kernelspec": {
   "display_name": "Python 3 (ipykernel)",
   "language": "python",
   "name": "python3"
  },
  "language_info": {
   "codemirror_mode": {
    "name": "ipython",
    "version": 3
   },
   "file_extension": ".py",
   "mimetype": "text/x-python",
   "name": "python",
   "nbconvert_exporter": "python",
   "pygments_lexer": "ipython3",
   "version": "3.11.4"
  }
 },
 "nbformat": 4,
 "nbformat_minor": 5
}
