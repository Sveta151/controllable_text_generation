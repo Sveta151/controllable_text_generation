{
 "cells": [
  {
   "cell_type": "code",
   "execution_count": 2,
   "id": "86e54433",
   "metadata": {},
   "outputs": [],
   "source": [
    "# pip install anthropic"
   ]
  },
  {
   "cell_type": "code",
   "execution_count": 8,
   "id": "15bd80d3",
   "metadata": {},
   "outputs": [],
   "source": [
    "import anthropic\n",
    "# Create an instance of the Anthropics API client\n",
    "client = anthropic.Anthropic(api_key='API_KEY') "
   ]
  },
  {
   "cell_type": "code",
   "execution_count": 9,
   "id": "d1d78820",
   "metadata": {},
   "outputs": [],
   "source": [
    "response = client.messages.create(\n",
    "    model=\"claude-3-5-sonnet-20240620\",\n",
    "    max_tokens=1024,\n",
    "    messages=[{\"role\": \"user\", \"content\": \"Write a short story.\"}],\n",
    "    system=\"You are a creative writing assistant.\",\n",
    "    stop_sequences=[\"The end.\"],\n",
    "    temperature=0.9\n",
    ")"
   ]
  },
  {
   "cell_type": "code",
   "execution_count": 17,
   "id": "7a0bf681",
   "metadata": {},
   "outputs": [
    {
     "name": "stdout",
     "output_type": "stream",
     "text": [
      "Here's a short story for you:\n",
      "\n",
      "The Last Leaf\n",
      "\n",
      "Eliza peered out her window at the old ivy vine clinging to the brick wall across the courtyard. Only three leaves remained, quivering in the cold November wind. She sighed, pulling her blanket tighter around her shoulders.\n",
      "\n",
      "\"When the last leaf falls, I'll go too,\" she had told her neighbor, Sue, who now watched her with concern.\n",
      "\n",
      "For weeks, Eliza had battled pneumonia, her artist's spirit dimming with each passing day. Sue and their elderly neighbor, Behrman, had done their best to lift her spirits, but Eliza's gaze remained fixed on that stubborn ivy.\n",
      "\n",
      "One blustery night, rain lashed against the windows. By morning, Eliza was sure the ivy would be bare. But as weak sunlight filtered into her room, she gasped. There, defying nature, hung a single green leaf.\n",
      "\n",
      "Day after day, the leaf held fast. Eliza's strength gradually returned, her hope rekindled by its persistence.\n",
      "\n",
      "Weeks later, she learned the truth. Behrman, a failed artist, had ventured out that stormy night to paint his masterpiece – a lone leaf that had given Eliza the will to live.\n",
      "\n",
      "In his final act, Behrman had created something truly beautiful, a testament to the power of hope and the human spirit.\n"
     ]
    }
   ],
   "source": [
    "print(response.content[0].text)"
   ]
  },
  {
   "cell_type": "markdown",
   "id": "b86c7cf4",
   "metadata": {},
   "source": [
    "## diffferent prompts (same as for gpt)\n"
   ]
  },
  {
   "cell_type": "code",
   "execution_count": 18,
   "id": "74fe125d",
   "metadata": {},
   "outputs": [],
   "source": [
    "#creating different prompts to check which one is working better\n",
    "prompt_one_shot = ''' You are a helpful assistant that formalizes sentences. You will be provided with a sentence, and in return, you need to provide the same sentence rewritten in a formal style. Maintain the original meaning while making the language more proper and professional.\n",
    "Example:\n",
    "Provided sentence: \"You won't until you pick to be wealthy and powerful.\"\n",
    "Output: \"Success will come when you choose to pursue wealth and power.\"\n",
    "\n",
    "'''\n",
    "\n",
    "prompt_few_shot = ''' You are a helpful assistant that formalizes sentences. You will be provided with a sentence, and in return, you need to provide the same sentence rewritten in a formal style. Maintain the original meaning while making the language more proper and professional.\n",
    "Example:\n",
    "Provided sentence: \"You won't until you pick to be wealthy and powerful.\"\n",
    "Output: \"Success will come when you choose to pursue wealth and power.\"\n",
    "\n",
    "Provided sentence: \"does he have a fave sports team?\"\n",
    "Output: \"Does he have a favorite sports team?\"\n",
    "\n",
    "Provided sentence: \"I NEED TO KNOW WHAT 2 DO\"\n",
    "Output: \"I need to know what to do..\"\n",
    "'''"
   ]
  },
  {
   "cell_type": "code",
   "execution_count": 19,
   "id": "7e6aa59a",
   "metadata": {},
   "outputs": [],
   "source": [
    "prompt_more_specific = '''You are a helpful assistant that converts informal text into a more standard written format. When given a sentence, you should:\n",
    "\n",
    "1. Convert all text to proper sentence case (capitalize only the first letter of the sentence and proper nouns).\n",
    "2. Spell out any numbers or numerals as words.\n",
    "3. Replace abbreviations or text speak with their full word equivalents.\n",
    "4. Maintain the original punctuation or add a period at the end if missing.\n",
    "\n",
    "Do not add any additional words or change the meaning of the sentence. Simply standardize the format as described above.\n",
    "'''"
   ]
  },
  {
   "cell_type": "code",
   "execution_count": 20,
   "id": "2d299315",
   "metadata": {},
   "outputs": [],
   "source": [
    "prompt_specific_2 = '''You are a helpful assistant that formalizes sentences. When given an informal sentence, you should:\n",
    "\n",
    "1. Rewrite the sentence in a more formal style.\n",
    "2. Keep the meaning intact but remove casual language, filler words, and unnecessary phrases.\n",
    "3. Present a concise, direct formal version of the original sentence.'''"
   ]
  },
  {
   "cell_type": "code",
   "execution_count": 21,
   "id": "25292658",
   "metadata": {},
   "outputs": [],
   "source": [
    "prompt_extended = '''You are an assistant that converts informal text into formal language. When given an informal sentence or phrase, rewrite it in a more formal style following these guidelines:\n",
    "\n",
    "1. Correct spelling and grammar errors.\n",
    "2. Replace slang, colloquialisms, and informal words with their formal equivalents.\n",
    "3. Remove unnecessary filler words and phrases.\n",
    "4. Properly capitalize words, including the first word of the sentence and proper nouns.\n",
    "5. Use appropriate punctuation, removing excessive marks.\n",
    "6. Maintain the core meaning of the original text.\n",
    "7. Avoid contractions in the formal version.\n",
    "8. If the informal text includes profanity or very casual terms of address (e.g., \"bro\"), replace them with more formal alternatives or omit them if unnecessary.'''"
   ]
  },
  {
   "cell_type": "code",
   "execution_count": 22,
   "id": "0f0731a1",
   "metadata": {},
   "outputs": [],
   "source": [
    "prompt_extended_few_shot = '''You are an assistant that converts informal text into formal language. When given an informal sentence or phrase, rewrite it in a more formal style following these guidelines:\n",
    "\n",
    "1. Correct spelling and grammar errors.\n",
    "2. Replace slang, colloquialisms, and informal words with their formal equivalents.\n",
    "3. Remove unnecessary filler words and phrases.\n",
    "4. Properly capitalize words, including the first word of the sentence and proper nouns.\n",
    "5. Use appropriate punctuation, removing excessive marks.\n",
    "6. Maintain the core meaning of the original text.\n",
    "7. Avoid contractions in the formal version.\n",
    "8. If the informal text includes profanity or very casual terms of address (e.g., \"bro\"), replace them with more formal alternatives or omit them if unnecessary.\n",
    "Example:\n",
    "Provided sentence: \"You won't until you pick to be wealthy and powerful.\"\n",
    "Output: \"Success will come when you choose to pursue wealth and power.\"\n",
    "\n",
    "Provided sentence: \"does he have a fave sports team?\"\n",
    "Output: \"Does he have a favorite sports team?\"\n",
    "\n",
    "Provided sentence: \"I NEED TO KNOW WHAT 2 DO\"\n",
    "Output: \"I need to know what to do..\"\n",
    "'''"
   ]
  },
  {
   "cell_type": "code",
   "execution_count": 23,
   "id": "17b105e4",
   "metadata": {},
   "outputs": [],
   "source": [
    "prompt_more_specific_few_shot = '''You are a helpful assistant that converts informal text into a more standard written format. When given a sentence, you should:\n",
    "\n",
    "1. Convert all text to proper sentence case (capitalize only the first letter of the sentence and proper nouns).\n",
    "2. Spell out any numbers or numerals as words.\n",
    "3. Replace abbreviations or text speak with their full word equivalents.\n",
    "4. Maintain the original punctuation or add a period at the end if missing.\n",
    "\n",
    "Do not add any additional words or change the meaning of the sentence. Simply standardize the format as described above.\n",
    "Example:\n",
    "Provided sentence: \"You won't until you pick to be wealthy and powerful.\"\n",
    "Output: \"Success will come when you choose to pursue wealth and power.\"\n",
    "\n",
    "Provided sentence: \"does he have a fave sports team?\"\n",
    "Output: \"Does he have a favorite sports team?\"\n",
    "\n",
    "Provided sentence: \"I NEED TO KNOW WHAT 2 DO\"\n",
    "Output: \"I need to know what to do..\"\n",
    "'''"
   ]
  },
  {
   "cell_type": "code",
   "execution_count": 24,
   "id": "557ef9d1",
   "metadata": {},
   "outputs": [],
   "source": [
    "def generate_output_claude(provided_prompt,input_text):\n",
    "    response = client.messages.create(\n",
    "        model=\"claude-3-5-sonnet-20240620\",\n",
    "        max_tokens=1024,\n",
    "        messages=[{\"role\": \"user\", \"content\": input_text}],\n",
    "        system=provided_prompt,\n",
    "        stop_sequences=[\"The end.\"],\n",
    "        temperature=0.9\n",
    "    )\n",
    "    output = response.content[0].text\n",
    "    return output\n",
    "    \n",
    "    "
   ]
  },
  {
   "cell_type": "code",
   "execution_count": 25,
   "id": "72888e75",
   "metadata": {},
   "outputs": [],
   "source": [
    "prompts = [prompt_more_specific_few_shot,prompt_extended_few_shot,prompt_extended,prompt_specific_2,prompt_more_specific,\n",
    "          prompt_few_shot,prompt_one_shot]"
   ]
  },
  {
   "cell_type": "markdown",
   "id": "9b4672b9",
   "metadata": {},
   "source": [
    "### generating first 100\n"
   ]
  },
  {
   "cell_type": "code",
   "execution_count": 26,
   "id": "cb3dd00c",
   "metadata": {},
   "outputs": [],
   "source": [
    "with open('/Users/svetachurina/work/Clapton/datasets/GYAFC_Corpus/Family_Relationships/train/formal') as f:\n",
    "    lines = [line.rstrip() for line in f]\n",
    "with open('/Users/svetachurina/work/Clapton/datasets/GYAFC_Corpus/Family_Relationships/train/informal') as f:\n",
    "    informal_lines = [line.rstrip() for line in f]"
   ]
  },
  {
   "cell_type": "code",
   "execution_count": 27,
   "id": "617b41aa",
   "metadata": {},
   "outputs": [
    {
     "name": "stdout",
     "output_type": "stream",
     "text": [
      "we are already on the 0 \n",
      "we are already on the 10 \n",
      "we are already on the 20 \n",
      "we are already on the 30 \n",
      "we are already on the 40 \n",
      "we are already on the 50 \n",
      "we are already on the 60 \n",
      "we are already on the 70 \n",
      "we are already on the 80 \n",
      "we are already on the 90 \n"
     ]
    }
   ],
   "source": [
    "output_prompts = []\n",
    "\n",
    "for i in range(100):\n",
    "    if i%10 == 0:\n",
    "        print(f\"we are already on the {i} \")\n",
    "    informal =  informal_lines[i]\n",
    "    formal = lines[i]\n",
    "    for prompt in prompts:\n",
    "        output_formal = generate_output_claude(prompt, informal)\n",
    "        output_prompts.append({\n",
    "            'provided_informal': informal,\n",
    "            'prompt_style ': str(prompt),\n",
    "            'expected_formal': formal,\n",
    "            'generated_formal': output_formal\n",
    "        })\n",
    "    "
   ]
  },
  {
   "cell_type": "code",
   "execution_count": 29,
   "id": "8e790af1",
   "metadata": {},
   "outputs": [],
   "source": [
    "import pandas as pd\n",
    "output_prompts_df = pd.DataFrame(output_prompts)\n",
    "output_prompts_df.to_csv('output_claude_first100_dif_prompts_generated.csv')"
   ]
  },
  {
   "cell_type": "code",
   "execution_count": 30,
   "id": "595a2f60",
   "metadata": {},
   "outputs": [
    {
     "data": {
      "text/html": [
       "<div>\n",
       "<style scoped>\n",
       "    .dataframe tbody tr th:only-of-type {\n",
       "        vertical-align: middle;\n",
       "    }\n",
       "\n",
       "    .dataframe tbody tr th {\n",
       "        vertical-align: top;\n",
       "    }\n",
       "\n",
       "    .dataframe thead th {\n",
       "        text-align: right;\n",
       "    }\n",
       "</style>\n",
       "<table border=\"1\" class=\"dataframe\">\n",
       "  <thead>\n",
       "    <tr style=\"text-align: right;\">\n",
       "      <th></th>\n",
       "      <th>provided_informal</th>\n",
       "      <th>prompt_style</th>\n",
       "      <th>expected_formal</th>\n",
       "      <th>generated_formal</th>\n",
       "    </tr>\n",
       "  </thead>\n",
       "  <tbody>\n",
       "    <tr>\n",
       "      <th>0</th>\n",
       "      <td>Sure, it's ok, but I always have let the guy a...</td>\n",
       "      <td>You are a helpful assistant that converts info...</td>\n",
       "      <td>I prefer to let the guy ask me.</td>\n",
       "      <td>Sure, it's okay, but I always have let the guy...</td>\n",
       "    </tr>\n",
       "    <tr>\n",
       "      <th>1</th>\n",
       "      <td>Sure, it's ok, but I always have let the guy a...</td>\n",
       "      <td>You are an assistant that converts informal te...</td>\n",
       "      <td>I prefer to let the guy ask me.</td>\n",
       "      <td>A more formal version of this statement would ...</td>\n",
       "    </tr>\n",
       "    <tr>\n",
       "      <th>2</th>\n",
       "      <td>Sure, it's ok, but I always have let the guy a...</td>\n",
       "      <td>You are an assistant that converts informal te...</td>\n",
       "      <td>I prefer to let the guy ask me.</td>\n",
       "      <td>Certainly. A more formal version would be:\\n\\n...</td>\n",
       "    </tr>\n",
       "    <tr>\n",
       "      <th>3</th>\n",
       "      <td>Sure, it's ok, but I always have let the guy a...</td>\n",
       "      <td>You are a helpful assistant that formalizes se...</td>\n",
       "      <td>I prefer to let the guy ask me.</td>\n",
       "      <td>A more formal version of this sentence would b...</td>\n",
       "    </tr>\n",
       "    <tr>\n",
       "      <th>4</th>\n",
       "      <td>Sure, it's ok, but I always have let the guy a...</td>\n",
       "      <td>You are a helpful assistant that converts info...</td>\n",
       "      <td>I prefer to let the guy ask me.</td>\n",
       "      <td>Here is the converted version:\\n\\nSure, it's o...</td>\n",
       "    </tr>\n",
       "    <tr>\n",
       "      <th>...</th>\n",
       "      <td>...</td>\n",
       "      <td>...</td>\n",
       "      <td>...</td>\n",
       "      <td>...</td>\n",
       "    </tr>\n",
       "    <tr>\n",
       "      <th>695</th>\n",
       "      <td>WOMEN WANT A MAN WHO WILL NEVER CHEAT ON THEM .</td>\n",
       "      <td>You are an assistant that converts informal te...</td>\n",
       "      <td>Women want a man who will never cheat on them.</td>\n",
       "      <td>Women desire a partner who will remain faithfu...</td>\n",
       "    </tr>\n",
       "    <tr>\n",
       "      <th>696</th>\n",
       "      <td>WOMEN WANT A MAN WHO WILL NEVER CHEAT ON THEM .</td>\n",
       "      <td>You are a helpful assistant that formalizes se...</td>\n",
       "      <td>Women want a man who will never cheat on them.</td>\n",
       "      <td>Women desire a partner who demonstrates unwave...</td>\n",
       "    </tr>\n",
       "    <tr>\n",
       "      <th>697</th>\n",
       "      <td>WOMEN WANT A MAN WHO WILL NEVER CHEAT ON THEM .</td>\n",
       "      <td>You are a helpful assistant that converts info...</td>\n",
       "      <td>Women want a man who will never cheat on them.</td>\n",
       "      <td>Women want a man who will never cheat on them.</td>\n",
       "    </tr>\n",
       "    <tr>\n",
       "      <th>698</th>\n",
       "      <td>WOMEN WANT A MAN WHO WILL NEVER CHEAT ON THEM .</td>\n",
       "      <td>You are a helpful assistant that formalizes s...</td>\n",
       "      <td>Women want a man who will never cheat on them.</td>\n",
       "      <td>A more formal version of the sentence would be...</td>\n",
       "    </tr>\n",
       "    <tr>\n",
       "      <th>699</th>\n",
       "      <td>WOMEN WANT A MAN WHO WILL NEVER CHEAT ON THEM .</td>\n",
       "      <td>You are a helpful assistant that formalizes s...</td>\n",
       "      <td>Women want a man who will never cheat on them.</td>\n",
       "      <td>A more formal and professional version of this...</td>\n",
       "    </tr>\n",
       "  </tbody>\n",
       "</table>\n",
       "<p>700 rows × 4 columns</p>\n",
       "</div>"
      ],
      "text/plain": [
       "                                     provided_informal  \\\n",
       "0    Sure, it's ok, but I always have let the guy a...   \n",
       "1    Sure, it's ok, but I always have let the guy a...   \n",
       "2    Sure, it's ok, but I always have let the guy a...   \n",
       "3    Sure, it's ok, but I always have let the guy a...   \n",
       "4    Sure, it's ok, but I always have let the guy a...   \n",
       "..                                                 ...   \n",
       "695    WOMEN WANT A MAN WHO WILL NEVER CHEAT ON THEM .   \n",
       "696    WOMEN WANT A MAN WHO WILL NEVER CHEAT ON THEM .   \n",
       "697    WOMEN WANT A MAN WHO WILL NEVER CHEAT ON THEM .   \n",
       "698    WOMEN WANT A MAN WHO WILL NEVER CHEAT ON THEM .   \n",
       "699    WOMEN WANT A MAN WHO WILL NEVER CHEAT ON THEM .   \n",
       "\n",
       "                                         prompt_style   \\\n",
       "0    You are a helpful assistant that converts info...   \n",
       "1    You are an assistant that converts informal te...   \n",
       "2    You are an assistant that converts informal te...   \n",
       "3    You are a helpful assistant that formalizes se...   \n",
       "4    You are a helpful assistant that converts info...   \n",
       "..                                                 ...   \n",
       "695  You are an assistant that converts informal te...   \n",
       "696  You are a helpful assistant that formalizes se...   \n",
       "697  You are a helpful assistant that converts info...   \n",
       "698   You are a helpful assistant that formalizes s...   \n",
       "699   You are a helpful assistant that formalizes s...   \n",
       "\n",
       "                                    expected_formal  \\\n",
       "0                   I prefer to let the guy ask me.   \n",
       "1                   I prefer to let the guy ask me.   \n",
       "2                   I prefer to let the guy ask me.   \n",
       "3                   I prefer to let the guy ask me.   \n",
       "4                   I prefer to let the guy ask me.   \n",
       "..                                              ...   \n",
       "695  Women want a man who will never cheat on them.   \n",
       "696  Women want a man who will never cheat on them.   \n",
       "697  Women want a man who will never cheat on them.   \n",
       "698  Women want a man who will never cheat on them.   \n",
       "699  Women want a man who will never cheat on them.   \n",
       "\n",
       "                                      generated_formal  \n",
       "0    Sure, it's okay, but I always have let the guy...  \n",
       "1    A more formal version of this statement would ...  \n",
       "2    Certainly. A more formal version would be:\\n\\n...  \n",
       "3    A more formal version of this sentence would b...  \n",
       "4    Here is the converted version:\\n\\nSure, it's o...  \n",
       "..                                                 ...  \n",
       "695  Women desire a partner who will remain faithfu...  \n",
       "696  Women desire a partner who demonstrates unwave...  \n",
       "697     Women want a man who will never cheat on them.  \n",
       "698  A more formal version of the sentence would be...  \n",
       "699  A more formal and professional version of this...  \n",
       "\n",
       "[700 rows x 4 columns]"
      ]
     },
     "execution_count": 30,
     "metadata": {},
     "output_type": "execute_result"
    }
   ],
   "source": []
  }
 ],
 "metadata": {
  "kernelspec": {
   "display_name": "Python 3 (ipykernel)",
   "language": "python",
   "name": "python3"
  },
  "language_info": {
   "codemirror_mode": {
    "name": "ipython",
    "version": 3
   },
   "file_extension": ".py",
   "mimetype": "text/x-python",
   "name": "python",
   "nbconvert_exporter": "python",
   "pygments_lexer": "ipython3",
   "version": "3.11.4"
  }
 },
 "nbformat": 4,
 "nbformat_minor": 5
}
